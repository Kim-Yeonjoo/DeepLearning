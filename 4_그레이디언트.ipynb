{
  "nbformat": 4,
  "nbformat_minor": 0,
  "metadata": {
    "colab": {
      "provenance": [],
      "authorship_tag": "ABX9TyOCm2V0SZeqEF7t9JUtT35j",
      "include_colab_link": true
    },
    "kernelspec": {
      "name": "python3",
      "display_name": "Python 3"
    },
    "language_info": {
      "name": "python"
    }
  },
  "cells": [
    {
      "cell_type": "markdown",
      "metadata": {
        "id": "view-in-github",
        "colab_type": "text"
      },
      "source": [
        "<a href=\"https://colab.research.google.com/github/Kim-Yeonjoo/DeepLearning/blob/main/2_4_%EA%B7%B8%EB%A0%88%EC%9D%B4%EB%94%94%EC%96%B8%ED%8A%B8.ipynb\" target=\"_parent\"><img src=\"https://colab.research.google.com/assets/colab-badge.svg\" alt=\"Open In Colab\"/></a>"
      ]
    },
    {
      "cell_type": "code",
      "execution_count": 1,
      "metadata": {
        "colab": {
          "base_uri": "https://localhost:8080/"
        },
        "id": "kBDEVJC1Z6No",
        "outputId": "92d0b602-ab66-4bbc-ee7b-e8b9d2b20dd1"
      },
      "outputs": [
        {
          "output_type": "execute_result",
          "data": {
            "text/plain": [
              "<tf.Tensor: shape=(), dtype=float32, numpy=2.0>"
            ]
          },
          "metadata": {},
          "execution_count": 1
        }
      ],
      "source": [
        "import tensorflow as tf\n",
        "\n",
        "# 1. scala 값의 기울기 계산\n",
        "x = tf.Variable(0.)   # 초기값 0\n",
        "\n",
        "with tf.GradientTape() as tape :  # 연산 과정 기록\n",
        "  y = 2 * x + 3  # y 계산 위한 규칙\n",
        "\n",
        "grad_y_x = tape.gradient(y, x)   # y값을 x로 미분\n",
        "grad_y_x  # 텐서"
      ]
    },
    {
      "cell_type": "code",
      "source": [
        "# 2. 행렬 값의 기울기 계산\n",
        "x = tf.Variable( tf.zeros((2,2)) )\n",
        "\n",
        "with tf.GradientTape() as tape :\n",
        "  y = 2 * x + 3    # 브로드캐스팅 연산 -> y 값은 2행2열\n",
        "\n",
        "grad_y_x = tape.gradient(y, x)\n",
        "grad_y_x"
      ],
      "metadata": {
        "colab": {
          "base_uri": "https://localhost:8080/"
        },
        "id": "ij27rHbia0aU",
        "outputId": "aae503f6-0ff6-4884-d558-8ecb470c6d24"
      },
      "execution_count": 2,
      "outputs": [
        {
          "output_type": "execute_result",
          "data": {
            "text/plain": [
              "<tf.Tensor: shape=(2, 2), dtype=float32, numpy=\n",
              "array([[2., 2.],\n",
              "       [2., 2.]], dtype=float32)>"
            ]
          },
          "metadata": {},
          "execution_count": 2
        }
      ]
    },
    {
      "cell_type": "code",
      "source": [
        "#3. w(선형함수) 값의 기울기 계산\n",
        "w = tf.Variable(tf.random.uniform((2,2)))   # 가중치 = 기울기\n",
        "b = tf.Variable(tf.zeros((2,)))   # 벡터로 지정\n",
        "\n",
        "x = tf.random.uniform((2,2))\n",
        "\n",
        "with tf.GradientTape() as tape :\n",
        "  y = tf.matmul(x,w) + b   # 행렬곱(x*w) + 벡터 => 선형함수식\n",
        "\n",
        "grad_y_w_b = tape.gradient(y, [w,b])  # 편미분\n",
        "grad_y_w_b   # w의 미분값 / bd의 미분값"
      ],
      "metadata": {
        "colab": {
          "base_uri": "https://localhost:8080/"
        },
        "id": "S75CPYtabknI",
        "outputId": "453b6eb5-7397-4de1-f983-e364e38316a8"
      },
      "execution_count": 9,
      "outputs": [
        {
          "output_type": "execute_result",
          "data": {
            "text/plain": [
              "[<tf.Tensor: shape=(2, 2), dtype=float32, numpy=\n",
              " array([[1.4658371, 1.4658371],\n",
              "        [0.649171 , 0.649171 ]], dtype=float32)>,\n",
              " <tf.Tensor: shape=(2,), dtype=float32, numpy=array([2., 2.], dtype=float32)>]"
            ]
          },
          "metadata": {},
          "execution_count": 9
        }
      ]
    },
    {
      "cell_type": "code",
      "source": [
        "x"
      ],
      "metadata": {
        "colab": {
          "base_uri": "https://localhost:8080/"
        },
        "id": "hViL8LEGcnEu",
        "outputId": "38277623-995e-4c56-e4a8-8f6ae49e02f5"
      },
      "execution_count": 6,
      "outputs": [
        {
          "output_type": "execute_result",
          "data": {
            "text/plain": [
              "<tf.Tensor: shape=(2, 2), dtype=float32, numpy=\n",
              "array([[0.979874  , 0.4339987 ],\n",
              "       [0.98410785, 0.01295841]], dtype=float32)>"
            ]
          },
          "metadata": {},
          "execution_count": 6
        }
      ]
    },
    {
      "cell_type": "code",
      "source": [
        "w"
      ],
      "metadata": {
        "colab": {
          "base_uri": "https://localhost:8080/"
        },
        "id": "0thg-uIbcUaq",
        "outputId": "3433a016-97ec-40a7-e0a5-ae3c0c12c9d7"
      },
      "execution_count": 4,
      "outputs": [
        {
          "output_type": "execute_result",
          "data": {
            "text/plain": [
              "<tf.Variable 'Variable:0' shape=(2, 2) dtype=float32, numpy=\n",
              "array([[0.53470635, 0.51512396],\n",
              "       [0.38759124, 0.5136676 ]], dtype=float32)>"
            ]
          },
          "metadata": {},
          "execution_count": 4
        }
      ]
    },
    {
      "cell_type": "code",
      "source": [
        "b"
      ],
      "metadata": {
        "colab": {
          "base_uri": "https://localhost:8080/"
        },
        "id": "Kw5NSi2WcZGp",
        "outputId": "38ba38fb-4729-4d09-8649-a73d0e4ef94f"
      },
      "execution_count": 5,
      "outputs": [
        {
          "output_type": "execute_result",
          "data": {
            "text/plain": [
              "<tf.Variable 'Variable:0' shape=(2,) dtype=float32, numpy=array([0., 0.], dtype=float32)>"
            ]
          },
          "metadata": {},
          "execution_count": 5
        }
      ]
    },
    {
      "cell_type": "code",
      "source": [
        "w"
      ],
      "metadata": {
        "id": "xTF7CvI2ce8N"
      },
      "execution_count": null,
      "outputs": []
    }
  ]
}
