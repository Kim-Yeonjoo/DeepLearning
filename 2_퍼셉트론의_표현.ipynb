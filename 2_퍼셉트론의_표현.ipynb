{
  "nbformat": 4,
  "nbformat_minor": 0,
  "metadata": {
    "colab": {
      "provenance": [],
      "authorship_tag": "ABX9TyM8/9AlbhHQmyH0DnyCmJf1",
      "include_colab_link": true
    },
    "kernelspec": {
      "name": "python3",
      "display_name": "Python 3"
    },
    "language_info": {
      "name": "python"
    }
  },
  "cells": [
    {
      "cell_type": "markdown",
      "metadata": {
        "id": "view-in-github",
        "colab_type": "text"
      },
      "source": [
        "<a href=\"https://colab.research.google.com/github/Kim-Yeonjoo/DeepLearning/blob/main/2_%ED%8D%BC%EC%85%89%ED%8A%B8%EB%A1%A0%EC%9D%98_%ED%91%9C%ED%98%84.ipynb\" target=\"_parent\"><img src=\"https://colab.research.google.com/assets/colab-badge.svg\" alt=\"Open In Colab\"/></a>"
      ]
    },
    {
      "cell_type": "markdown",
      "source": [
        "# and w1 * x1 + w2 * x2 = y\n",
        "```\n",
        "1 1 = 1    0.5 * 1 + 0.5 * 1 > 0.7 = 1.2  \n",
        "0 0 = 0    0.5 * 0 + 0.5 * 0 > 0.7 = 0.7 > 0  \n",
        "0 1 = 0  \n",
        "1 0 = 0  \n",
        "```"
      ],
      "metadata": {
        "id": "V3gdrTOBLBmS"
      }
    },
    {
      "cell_type": "code",
      "execution_count": 1,
      "metadata": {
        "id": "iHplw3ktKulz"
      },
      "outputs": [],
      "source": [
        "# 퍼셉트론 구조 (일반 연산)\n",
        "def AND(x1, x2) :\n",
        "  w1 ,w2 , theta = 0.5, 0.5, 0.7  # 가중치\n",
        "  tmp = x1*w1 + x2*w2\n",
        "  if tmp <= theta :\n",
        "    return 0\n",
        "  elif tmp > theta :\n",
        "    return 1"
      ]
    },
    {
      "cell_type": "code",
      "source": [
        "AND(0,0)"
      ],
      "metadata": {
        "colab": {
          "base_uri": "https://localhost:8080/"
        },
        "id": "MfRBUPRoMHs1",
        "outputId": "8154bcc1-6e4a-4234-ddfe-096e3dd68d2b"
      },
      "execution_count": 2,
      "outputs": [
        {
          "output_type": "execute_result",
          "data": {
            "text/plain": [
              "0"
            ]
          },
          "metadata": {},
          "execution_count": 2
        }
      ]
    },
    {
      "cell_type": "code",
      "source": [
        "print(AND(0,0))\n",
        "print(AND(1,0))\n",
        "print(AND(0,1))\n",
        "print(AND(1,1))"
      ],
      "metadata": {
        "colab": {
          "base_uri": "https://localhost:8080/"
        },
        "id": "IgHSy8DHMQAn",
        "outputId": "b2e11dc6-d008-4127-d912-ce5b62a82287"
      },
      "execution_count": 3,
      "outputs": [
        {
          "output_type": "stream",
          "name": "stdout",
          "text": [
            "0\n",
            "0\n",
            "0\n",
            "1\n"
          ]
        }
      ]
    },
    {
      "cell_type": "code",
      "source": [
        "def OR(x1, x2) :\n",
        "  w1 ,w2 , theta = 0.5, 0.5, 0.2  # 가중치\n",
        "  tmp = x1*w1 + x2*w2\n",
        "  if tmp <= theta :\n",
        "    return 0\n",
        "  elif tmp > theta :\n",
        "    return 1"
      ],
      "metadata": {
        "id": "aoea_ISZMhxh"
      },
      "execution_count": 4,
      "outputs": []
    },
    {
      "cell_type": "code",
      "source": [
        "print(OR(0,0))\n",
        "print(OR(1,0))\n",
        "print(OR(0,1))\n",
        "print(OR(1,1))"
      ],
      "metadata": {
        "colab": {
          "base_uri": "https://localhost:8080/"
        },
        "id": "XECA9XkdMv4s",
        "outputId": "3bf14189-1c80-4670-de88-262c59eef06b"
      },
      "execution_count": 5,
      "outputs": [
        {
          "output_type": "stream",
          "name": "stdout",
          "text": [
            "0\n",
            "1\n",
            "1\n",
            "1\n"
          ]
        }
      ]
    },
    {
      "cell_type": "code",
      "source": [
        "def NAND(x1, x2) :\n",
        "  w1 ,w2 , theta = -0.5, -0.5, -0.7  # 가중치\n",
        "  tmp = x1*w1 + x2*w2\n",
        "  if tmp <= theta :\n",
        "    return 0\n",
        "  elif tmp > theta :\n",
        "    return 1"
      ],
      "metadata": {
        "id": "UbaXPVIgR-G9"
      },
      "execution_count": 20,
      "outputs": []
    },
    {
      "cell_type": "code",
      "source": [
        "print(NAND(0,0))\n",
        "print(NAND(1,0))\n",
        "print(NAND(0,1))\n",
        "print(NAND(1,1))"
      ],
      "metadata": {
        "colab": {
          "base_uri": "https://localhost:8080/"
        },
        "id": "HiRtvjqPSCWN",
        "outputId": "345b250a-2dc0-4b00-a0b5-8868c838d92f"
      },
      "execution_count": 21,
      "outputs": [
        {
          "output_type": "stream",
          "name": "stdout",
          "text": [
            "1\n",
            "1\n",
            "1\n",
            "0\n"
          ]
        }
      ]
    },
    {
      "cell_type": "markdown",
      "source": [
        "# 뉴런으로 정의한 논리 게이트"
      ],
      "metadata": {
        "id": "cuw2PPQwRn5z"
      }
    },
    {
      "cell_type": "code",
      "source": [
        "# 백터 버전\n",
        "import numpy as np\n",
        "\n",
        "def AND(x1, x2):\n",
        "  x = np.array([x1 ,x2])\n",
        "  w = np.array([0.5, 0.5])\n",
        "  b = -0.7\n",
        "  tmp = np.sum(x*w) + b\n",
        "\n",
        "  if tmp <= 0 :\n",
        "    return 0\n",
        "  else :\n",
        "    return 1"
      ],
      "metadata": {
        "id": "1_Ps1qfAQrx2"
      },
      "execution_count": 11,
      "outputs": []
    },
    {
      "cell_type": "code",
      "source": [
        "print(AND(0,0))\n",
        "print(AND(1,0))\n",
        "print(AND(0,1))\n",
        "print(AND(1,1))"
      ],
      "metadata": {
        "colab": {
          "base_uri": "https://localhost:8080/"
        },
        "id": "LQ9MZjGKRxZ6",
        "outputId": "a51449c5-b57c-4a8d-e0bd-6293cbd83bc3"
      },
      "execution_count": 12,
      "outputs": [
        {
          "output_type": "stream",
          "name": "stdout",
          "text": [
            "0\n",
            "0\n",
            "0\n",
            "1\n"
          ]
        }
      ]
    },
    {
      "cell_type": "code",
      "source": [
        "def OR(x1, x2):\n",
        "  x = np.array([x1 ,x2])\n",
        "  w = np.array([0.5, 0.5])\n",
        "  b = -0.2\n",
        "  tmp = np.sum(x*w) + b\n",
        "\n",
        "  if tmp <= 0 :\n",
        "    return 0\n",
        "  else :\n",
        "    return 1"
      ],
      "metadata": {
        "id": "A5cfgezoRR0R"
      },
      "execution_count": 14,
      "outputs": []
    },
    {
      "cell_type": "code",
      "source": [
        "print(OR(0,0))\n",
        "print(OR(1,0))\n",
        "print(OR(0,1))\n",
        "print(OR(1,1))"
      ],
      "metadata": {
        "colab": {
          "base_uri": "https://localhost:8080/"
        },
        "id": "IEdkNQbRRs39",
        "outputId": "cb793aec-bd29-4bdc-f565-6f39e4a6498b"
      },
      "execution_count": 15,
      "outputs": [
        {
          "output_type": "stream",
          "name": "stdout",
          "text": [
            "0\n",
            "1\n",
            "1\n",
            "1\n"
          ]
        }
      ]
    },
    {
      "cell_type": "code",
      "source": [
        "def NAND(x1, x2):\n",
        "  x = np.array([x1 ,x2])\n",
        "  w = np.array([-0.5, -0.5])\n",
        "  b = 0.7\n",
        "  tmp = np.sum(x*w) + b\n",
        "\n",
        "  if tmp <= 0 :\n",
        "    return 0\n",
        "  else :\n",
        "    return 1"
      ],
      "metadata": {
        "id": "tTYFLGs-Rb5q"
      },
      "execution_count": 18,
      "outputs": []
    },
    {
      "cell_type": "code",
      "source": [
        "print(NAND(0,0))\n",
        "print(NAND(1,0))\n",
        "print(NAND(0,1))\n",
        "print(NAND(1,1))"
      ],
      "metadata": {
        "colab": {
          "base_uri": "https://localhost:8080/"
        },
        "id": "Vd4_cjoPR2yq",
        "outputId": "2410cbd5-e491-4266-dd17-483a49fd56c5"
      },
      "execution_count": 19,
      "outputs": [
        {
          "output_type": "stream",
          "name": "stdout",
          "text": [
            "1\n",
            "1\n",
            "1\n",
            "0\n"
          ]
        }
      ]
    },
    {
      "cell_type": "markdown",
      "source": [
        "# 다층 퍼셉트론 Multi Layer Perceptron\n",
        "```\n",
        "x1 x2  nand  or and  = y  \n",
        "0  0    1    0   0     0  \n",
        "1  0    1    1   1     1  \n",
        "0  1    1    1   1     1  \n",
        "1  1    0    0   0     0  \n",
        "```"
      ],
      "metadata": {
        "id": "naxhnEsrTBX5"
      }
    },
    {
      "cell_type": "markdown",
      "source": [
        "![image.png](data:image/png;base64,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)"
      ],
      "metadata": {
        "id": "G0fkp6AkVDgD"
      }
    },
    {
      "cell_type": "code",
      "source": [
        "def XOR(x1, x2):\n",
        "  s1 = NAND(x1, x2)\n",
        "  s2 = OR(x1, x2)\n",
        "\n",
        "  y = AND(s1, s2)\n",
        "\n",
        "  return y"
      ],
      "metadata": {
        "id": "mqK7JvnPT4AF"
      },
      "execution_count": 25,
      "outputs": []
    },
    {
      "cell_type": "code",
      "source": [
        "print(XOR(0,0))\n",
        "print(XOR(1,0))\n",
        "print(XOR(0,1))\n",
        "print(XOR(1,1))"
      ],
      "metadata": {
        "colab": {
          "base_uri": "https://localhost:8080/"
        },
        "id": "xpiTd-aiUTKR",
        "outputId": "13cfc620-86dc-4870-dc5e-ac9b01f09984"
      },
      "execution_count": 26,
      "outputs": [
        {
          "output_type": "stream",
          "name": "stdout",
          "text": [
            "0\n",
            "1\n",
            "1\n",
            "0\n"
          ]
        }
      ]
    },
    {
      "cell_type": "markdown",
      "source": [
        "1. 퍼셉트론은 입력과 출력이 있는 알고리즘\n",
        "  > 입력을 정해진 규칙에 따라 계산해서 출력\n",
        "2. 퍼셉트론은 '가중치'와 '편향(바이어스)'를 이용해서 매개변수로 설정\n",
        "3. 퍼셉트론 하나로 AND, OR 같은 논리 게이트를 구성할 수 있다\n",
        "  > 선형\n",
        "4. XOR 같은 복합 논리는 퍼셉트론을 연결새 처리\n",
        "  > 비선형\n",
        "5. XOR는 2단 퍼셉트론을 구성할 수 있음"
      ],
      "metadata": {
        "id": "WUz4jNW6Vcxo"
      }
    },
    {
      "cell_type": "markdown",
      "source": [
        "# MNIST 데이터셋으로 신경망 구성"
      ],
      "metadata": {
        "id": "OhVRrMoXaDtH"
      }
    },
    {
      "cell_type": "code",
      "source": [
        "from tensorflow.keras.datasets import mnist\n",
        "\n",
        "(train_images, train_labels), (test_images, test_labels) = mnist.load_data()"
      ],
      "metadata": {
        "colab": {
          "base_uri": "https://localhost:8080/"
        },
        "id": "Wjkap9cmV4L0",
        "outputId": "6fc0ba3f-c300-43e5-82dc-c03bbb0c371d"
      },
      "execution_count": 27,
      "outputs": [
        {
          "output_type": "stream",
          "name": "stdout",
          "text": [
            "Downloading data from https://storage.googleapis.com/tensorflow/tf-keras-datasets/mnist.npz\n",
            "\u001b[1m11490434/11490434\u001b[0m \u001b[32m━━━━━━━━━━━━━━━━━━━━\u001b[0m\u001b[37m\u001b[0m \u001b[1m0s\u001b[0m 0us/step\n"
          ]
        }
      ]
    },
    {
      "cell_type": "code",
      "source": [
        "train_images.shape"
      ],
      "metadata": {
        "colab": {
          "base_uri": "https://localhost:8080/"
        },
        "id": "wOqLF2Xyaeqa",
        "outputId": "85531012-d9ac-48e9-f429-a731e9d61309"
      },
      "execution_count": 28,
      "outputs": [
        {
          "output_type": "execute_result",
          "data": {
            "text/plain": [
              "(60000, 28, 28)"
            ]
          },
          "metadata": {},
          "execution_count": 28
        }
      ]
    },
    {
      "cell_type": "code",
      "source": [
        "len(train_labels)"
      ],
      "metadata": {
        "colab": {
          "base_uri": "https://localhost:8080/"
        },
        "id": "pTtLqZ0KapaB",
        "outputId": "9428541a-873a-45ea-9d6d-5e7c2d9fabb5"
      },
      "execution_count": 29,
      "outputs": [
        {
          "output_type": "execute_result",
          "data": {
            "text/plain": [
              "60000"
            ]
          },
          "metadata": {},
          "execution_count": 29
        }
      ]
    },
    {
      "cell_type": "code",
      "source": [
        "train_labels[:5]"
      ],
      "metadata": {
        "colab": {
          "base_uri": "https://localhost:8080/"
        },
        "id": "kF0WVNCjaxgs",
        "outputId": "abe4991a-c1bb-4a29-e386-e01ebafc3e8e"
      },
      "execution_count": 30,
      "outputs": [
        {
          "output_type": "execute_result",
          "data": {
            "text/plain": [
              "array([5, 0, 4, 1, 9], dtype=uint8)"
            ]
          },
          "metadata": {},
          "execution_count": 30
        }
      ]
    },
    {
      "cell_type": "code",
      "source": [
        "from tensorflow import keras\n",
        "from tensorflow.keras import layers\n",
        "\n",
        "# 층2개 쌓기\n",
        "model = keras.Sequential([\n",
        "    layers.Dense(512, activation=\"relu\"),\n",
        "    layers.Dense(10, activation=\"softmax\")\n",
        "])"
      ],
      "metadata": {
        "id": "ev6ERPRba5wV"
      },
      "execution_count": 31,
      "outputs": []
    },
    {
      "cell_type": "code",
      "source": [
        "model.compile(\n",
        "    optimizer=\"rmsprop\",\n",
        "    loss=\"sparse_categorical_crossentropy\",\n",
        "    metrics=[\"accuracy\"]\n",
        ")"
      ],
      "metadata": {
        "id": "kOFpMhTHb4TY"
      },
      "execution_count": 32,
      "outputs": []
    },
    {
      "cell_type": "code",
      "source": [
        "# 2차원 텐서로 변경\n",
        "train_images = train_images.reshape((60000, 28 * 28))\n",
        "train_images = train_images.astype(\"float32\") / 255\n",
        "\n",
        "test_images = test_images.reshape((10000, 28 * 28))\n",
        "test_images = test_images.astype(\"float32\") / 255"
      ],
      "metadata": {
        "id": "htrw1kcZcg0T"
      },
      "execution_count": 33,
      "outputs": []
    },
    {
      "cell_type": "code",
      "source": [
        "model.fit(train_images, train_labels, epochs=5, batch_size=128)"
      ],
      "metadata": {
        "colab": {
          "base_uri": "https://localhost:8080/"
        },
        "id": "o_T0N1e0c6f1",
        "outputId": "13a70324-f091-44c4-aa05-79e693e1f7d7"
      },
      "execution_count": 34,
      "outputs": [
        {
          "output_type": "stream",
          "name": "stdout",
          "text": [
            "Epoch 1/5\n",
            "\u001b[1m469/469\u001b[0m \u001b[32m━━━━━━━━━━━━━━━━━━━━\u001b[0m\u001b[37m\u001b[0m \u001b[1m6s\u001b[0m 9ms/step - accuracy: 0.8758 - loss: 0.4325\n",
            "Epoch 2/5\n",
            "\u001b[1m469/469\u001b[0m \u001b[32m━━━━━━━━━━━━━━━━━━━━\u001b[0m\u001b[37m\u001b[0m \u001b[1m4s\u001b[0m 9ms/step - accuracy: 0.9662 - loss: 0.1141\n",
            "Epoch 3/5\n",
            "\u001b[1m469/469\u001b[0m \u001b[32m━━━━━━━━━━━━━━━━━━━━\u001b[0m\u001b[37m\u001b[0m \u001b[1m6s\u001b[0m 11ms/step - accuracy: 0.9787 - loss: 0.0737\n",
            "Epoch 4/5\n",
            "\u001b[1m469/469\u001b[0m \u001b[32m━━━━━━━━━━━━━━━━━━━━\u001b[0m\u001b[37m\u001b[0m \u001b[1m9s\u001b[0m 9ms/step - accuracy: 0.9843 - loss: 0.0510\n",
            "Epoch 5/5\n",
            "\u001b[1m469/469\u001b[0m \u001b[32m━━━━━━━━━━━━━━━━━━━━\u001b[0m\u001b[37m\u001b[0m \u001b[1m7s\u001b[0m 12ms/step - accuracy: 0.9896 - loss: 0.0358\n"
          ]
        },
        {
          "output_type": "execute_result",
          "data": {
            "text/plain": [
              "<keras.src.callbacks.history.History at 0x7fe9115a1660>"
            ]
          },
          "metadata": {},
          "execution_count": 34
        }
      ]
    },
    {
      "cell_type": "code",
      "source": [
        "test_digits = test_images[0:10]\n",
        "predictions = model.predict(test_digits)\n",
        "predictions[0]"
      ],
      "metadata": {
        "colab": {
          "base_uri": "https://localhost:8080/"
        },
        "id": "Y82aySuXc6Z3",
        "outputId": "c4c5c85d-091f-449a-e16e-0379f853433e"
      },
      "execution_count": 35,
      "outputs": [
        {
          "output_type": "stream",
          "name": "stdout",
          "text": [
            "\u001b[1m1/1\u001b[0m \u001b[32m━━━━━━━━━━━━━━━━━━━━\u001b[0m\u001b[37m\u001b[0m \u001b[1m0s\u001b[0m 48ms/step\n"
          ]
        },
        {
          "output_type": "execute_result",
          "data": {
            "text/plain": [
              "array([1.2680124e-07, 5.0099231e-09, 1.8512312e-06, 2.3542468e-04,\n",
              "       5.7270088e-11, 8.8030475e-08, 9.3904398e-12, 9.9976134e-01,\n",
              "       2.9016789e-07, 7.4362924e-07], dtype=float32)"
            ]
          },
          "metadata": {},
          "execution_count": 35
        }
      ]
    },
    {
      "cell_type": "code",
      "source": [
        "predictions[0].argmax()"
      ],
      "metadata": {
        "colab": {
          "base_uri": "https://localhost:8080/"
        },
        "id": "zNNi90YVgncr",
        "outputId": "7f248ce2-4780-4162-b162-05ed20323495"
      },
      "execution_count": 36,
      "outputs": [
        {
          "output_type": "execute_result",
          "data": {
            "text/plain": [
              "7"
            ]
          },
          "metadata": {},
          "execution_count": 36
        }
      ]
    },
    {
      "cell_type": "code",
      "source": [
        "test_labels[0]"
      ],
      "metadata": {
        "colab": {
          "base_uri": "https://localhost:8080/"
        },
        "id": "oR5wEnC0g4Wl",
        "outputId": "11879fb1-6d14-4aa6-dfd8-3375dd14c705"
      },
      "execution_count": 37,
      "outputs": [
        {
          "output_type": "execute_result",
          "data": {
            "text/plain": [
              "7"
            ]
          },
          "metadata": {},
          "execution_count": 37
        }
      ]
    },
    {
      "cell_type": "code",
      "source": [
        "test_loss, test_acc = model.evaluate(test_images, test_labels)\n",
        "test_loss, test_acc"
      ],
      "metadata": {
        "colab": {
          "base_uri": "https://localhost:8080/"
        },
        "id": "hRfqA08Gg82U",
        "outputId": "420932a4-aa87-467a-ce1e-4e742ae7928f"
      },
      "execution_count": 38,
      "outputs": [
        {
          "output_type": "stream",
          "name": "stdout",
          "text": [
            "\u001b[1m313/313\u001b[0m \u001b[32m━━━━━━━━━━━━━━━━━━━━\u001b[0m\u001b[37m\u001b[0m \u001b[1m1s\u001b[0m 4ms/step - accuracy: 0.9770 - loss: 0.0707\n"
          ]
        },
        {
          "output_type": "execute_result",
          "data": {
            "text/plain": [
              "(0.06234497204422951, 0.9797999858856201)"
            ]
          },
          "metadata": {},
          "execution_count": 38
        }
      ]
    },
    {
      "cell_type": "code",
      "source": [],
      "metadata": {
        "id": "G68ntgDlhpIn"
      },
      "execution_count": null,
      "outputs": []
    }
  ]
}